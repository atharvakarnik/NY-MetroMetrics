{
 "cells": [
  {
   "cell_type": "code",
   "execution_count": 4,
   "id": "6b136e29-c8e2-412b-a1f0-16fe9dab7847",
   "metadata": {
    "tags": []
   },
   "outputs": [],
   "source": [
    "from sodapy import Socrata\n",
    "import pandas as pd\n",
    "import numpy as np\n",
    "# import matplotlib.pyplot as plt # Will import when needed... why waste cache"
   ]
  },
  {
   "cell_type": "code",
   "execution_count": null,
   "id": "be9fe7fa-b948-4f46-9488-b391eaeb8bfd",
   "metadata": {},
   "outputs": [],
   "source": [
    "client = Socrata(\"data.ny.gov\", None)\n",
    "\n",
    "results = client.get(\"vxuj-8kew\", limit=2000) # GET request for today, 24th June\n",
    "\n",
    "today_df = pd.DataFrame.from_records(results) # Just testing extraction method out"
   ]
  }
 ],
 "metadata": {
  "kernelspec": {
   "display_name": "Python 3 (ipykernel)",
   "language": "python",
   "name": "python3"
  },
  "language_info": {
   "codemirror_mode": {
    "name": "ipython",
    "version": 3
   },
   "file_extension": ".py",
   "mimetype": "text/x-python",
   "name": "python",
   "nbconvert_exporter": "python",
   "pygments_lexer": "ipython3",
   "version": "3.11.3"
  }
 },
 "nbformat": 4,
 "nbformat_minor": 5
}
